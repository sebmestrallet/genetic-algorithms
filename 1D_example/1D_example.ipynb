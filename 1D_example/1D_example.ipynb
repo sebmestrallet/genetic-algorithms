{
 "cells": [
  {
   "cell_type": "markdown",
   "metadata": {},
   "source": [
    "# Genetic algorithms: 1D example\n",
    "\n",
    "Import some packages/modules"
   ]
  },
  {
   "cell_type": "code",
   "execution_count": null,
   "metadata": {},
   "outputs": [],
   "source": [
    "import numpy as np\n",
    "import pandas as pd\n",
    "from random import random\n",
    "import plotly.express as px\n",
    "import plotly.graph_objects as go\n",
    "from time import sleep\n",
    "from IPython.display import clear_output\n",
    "\n",
    "from fonctions import * # TODO remove by moving content in the notebook"
   ]
  },
  {
   "cell_type": "markdown",
   "metadata": {},
   "source": [
    "Notebook settings"
   ]
  },
  {
   "cell_type": "code",
   "execution_count": null,
   "metadata": {},
   "outputs": [],
   "source": [
    "EXPORT_FIGURES = True"
   ]
  },
  {
   "cell_type": "markdown",
   "metadata": {},
   "source": [
    "Define the function to minimize : $f(x) = −0.02x \\times sin(0.01 x \\times 2 \\pi) − 4$\n",
    "\n",
    "With $x$ an integer between $0$ and $2^8 = 255$ included."
   ]
  },
  {
   "cell_type": "code",
   "execution_count": null,
   "metadata": {},
   "outputs": [],
   "source": [
    "function_to_minimize = lambda x: -0.02 * x * np.sin(0.01*x*2*np.pi) - 4\n",
    "\n",
    "# trace the function\n",
    "x = np.arange(0, 2**8) # range [0, 2^8=256[ -> [0, 255]\n",
    "y = function_to_minimize(x) # evaluate all values in x\n",
    "fig = go.Figure()\n",
    "fig.add_trace(go.Scatter(x=x,y=y,mode='lines'))\n",
    "fig.update_layout(title_text=\"Function to minimize\")\n",
    "fig.show()\n",
    "\n",
    "if EXPORT_FIGURES:\n",
    "    fig.write_image(\"function_to_minimize.png\")\n",
    "\n",
    "print(f\"The minimum is {np.min(y):0.2f} at x={np.argmin(y)}\")"
   ]
  },
  {
   "cell_type": "markdown",
   "metadata": {},
   "source": [
    "## test `dec2gc` and `gc2dec`"
   ]
  },
  {
   "cell_type": "markdown",
   "metadata": {},
   "source": [
    "https://www.geeksforgeeks.org/decimal-equivalent-gray-code-inverse/"
   ]
  },
  {
   "cell_type": "code",
   "execution_count": null,
   "metadata": {},
   "outputs": [],
   "source": [
    "# def dec2gc(dec,N):\n",
    "#     dec ^= (dec >> 1)\n",
    "#     return '{:0>{width}}'.format(bin(dec)[2:], 'b', width=N)\n",
    "# def gc2dec(gc):\n",
    "#     gc = int(gc,base=2)\n",
    "#     inv = 0\n",
    "#     while(gc):\n",
    "#         inv = inv ^ gc\n",
    "#         gc = gc >> 1\n",
    "#     return inv\n",
    "\n",
    "chromosome = dec2gc(247,16)\n",
    "print(chromosome)\n",
    "print(gc2dec(chromosome))\n"
   ]
  },
  {
   "cell_type": "markdown",
   "metadata": {},
   "source": [
    "## test `tracer_population`"
   ]
  },
  {
   "cell_type": "code",
   "execution_count": null,
   "metadata": {},
   "outputs": [],
   "source": [
    "population = np.array([[1,1,0,1,0,0,0,1],\n",
    "                       [1,0,0,0,1,1,1,1],\n",
    "                       [0,1,1,1,1,0,0,0],\n",
    "                       [1,1,1,1,1,1,1,1],\n",
    "                       [1,1,0,1,1,0,1,0],\n",
    "                       [0,1,0,1,0,1,1,0],\n",
    "                       [0,1,0,1,1,0,0,0],\n",
    "                       [1,0,1,0,1,1,0,0],\n",
    "                       [1,1,1,0,0,1,0,0],\n",
    "                       [1,0,1,0,1,1,1,0],\n",
    "                       [0,1,0,1,0,0,0,0],\n",
    "                       [1,0,1,0,0,0,1,0],\n",
    "                       [1,0,1,1,1,0,0,1],\n",
    "                       [0,0,0,0,1,1,0,1],\n",
    "                       [1,0,0,1,1,0,0,0],\n",
    "                       [0,1,0,0,0,1,0,0],\n",
    "                       [0,1,1,0,1,1,1,0],\n",
    "                       [1,0,0,0,0,1,1,1],\n",
    "                       [1,1,1,1,0,0,1,0],\n",
    "                       [1,0,0,0,0,0,0,0]], dtype=int)\n",
    "figure = tracer_population(population,\"Population initiale\")\n",
    "figure.write_image(\"population_initiale.png\")\n",
    "figure.show()"
   ]
  },
  {
   "cell_type": "markdown",
   "metadata": {},
   "source": [
    "## Test `calcul_scores_population`, `afficher_population_et_scores` et `afficher_stats_scores`"
   ]
  },
  {
   "cell_type": "code",
   "execution_count": null,
   "metadata": {},
   "outputs": [],
   "source": [
    "scores = calcul_scores_population(population)\n",
    "afficher_population_et_scores(population,scores)\n",
    "afficher_stats_scores(scores,0)"
   ]
  },
  {
   "cell_type": "markdown",
   "metadata": {},
   "source": [
    "## Test selection"
   ]
  },
  {
   "cell_type": "code",
   "execution_count": null,
   "metadata": {},
   "outputs": [],
   "source": [
    "a = np.array([[0,0],\n",
    "              [0,1],\n",
    "              [1,0],\n",
    "              [1,1]])\n",
    "scores = np.array([[0.5],\n",
    "                   [1.2],\n",
    "                   [0.1],\n",
    "                   [5.2]])\n",
    "afficher_population_et_scores(a,scores)"
   ]
  },
  {
   "cell_type": "code",
   "execution_count": null,
   "metadata": {},
   "outputs": [],
   "source": [
    "individus_selectiones = selection(a,scores)\n",
    "print(individus_selectiones)"
   ]
  },
  {
   "cell_type": "markdown",
   "metadata": {},
   "source": [
    "## Test melange_parents"
   ]
  },
  {
   "cell_type": "code",
   "execution_count": null,
   "metadata": {},
   "outputs": [],
   "source": [
    "a_melange = melange_parents(a)\n",
    "print(a_melange)"
   ]
  },
  {
   "cell_type": "markdown",
   "metadata": {},
   "source": [
    "## Test `croisement`"
   ]
  },
  {
   "cell_type": "code",
   "execution_count": null,
   "metadata": {},
   "outputs": [],
   "source": [
    "p1 = np.array([0,0,0,1,1,0,1,1])\n",
    "p2 = np.array([1,0,1,1,0,0,1,0])\n",
    "(e1,e2,point_croisement) = croisement(p1,p2)\n",
    "print(\"Parents:\")\n",
    "afficher_genes_individu(p1)\n",
    "print()\n",
    "afficher_genes_individu(p2)\n",
    "print()\n",
    "print(\"Enfants:\")\n",
    "afficher_genes_individu(e1)\n",
    "print()\n",
    "afficher_genes_individu(e2)\n",
    "print()\n",
    "#print(\"point de croisement = \",point_croisement)\n",
    "print(\" \"*(point_croisement)+\"][\")\n",
    "print(\"(point_croisement=\"+str(point_croisement)+\")\")"
   ]
  },
  {
   "cell_type": "markdown",
   "metadata": {},
   "source": [
    "## Test `index_des_meilleurs`"
   ]
  },
  {
   "cell_type": "code",
   "execution_count": null,
   "metadata": {},
   "outputs": [],
   "source": [
    "scores2 = np.array([[0.5],#0\n",
    "                    [1.2],#1\n",
    "                    [0.1],#2\n",
    "                    [5.2],#3\n",
    "                    [0.7],#4\n",
    "                    [0.9],#5\n",
    "                    [4.0],#6\n",
    "                    [3.1]])#7\n",
    "meilleurs = index_des_meilleurs(scores2,4)\n",
    "pires = index_des_pires(scores2,5)\n",
    "print(\"meilleurs=\",meilleurs)\n",
    "print(\"pires=\",pires)"
   ]
  },
  {
   "cell_type": "code",
   "execution_count": null,
   "metadata": {},
   "outputs": [],
   "source": []
  }
 ],
 "metadata": {
  "interpreter": {
   "hash": "6b304e056ab2e04bd32ce387bd5718e3059915cbf5f61cc3ea41defd4728d2e6"
  },
  "kernelspec": {
   "display_name": "Python 3.8.2 64-bit (system)",
   "language": "python",
   "name": "python3"
  },
  "language_info": {
   "codemirror_mode": {
    "name": "ipython",
    "version": 3
   },
   "file_extension": ".py",
   "mimetype": "text/x-python",
   "name": "python",
   "nbconvert_exporter": "python",
   "pygments_lexer": "ipython3",
   "version": "3.12.1"
  },
  "orig_nbformat": 4
 },
 "nbformat": 4,
 "nbformat_minor": 2
}
