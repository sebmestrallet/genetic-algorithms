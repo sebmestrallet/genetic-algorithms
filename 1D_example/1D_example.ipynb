{
 "cells": [
  {
   "cell_type": "markdown",
   "metadata": {},
   "source": [
    "# Genetic algorithms: 1D example\n",
    "\n",
    "Import some packages/modules"
   ]
  },
  {
   "cell_type": "code",
   "execution_count": null,
   "metadata": {},
   "outputs": [],
   "source": [
    "import numpy as np\n",
    "import pandas as pd\n",
    "from random import random\n",
    "import plotly.express as px\n",
    "import plotly.graph_objects as go\n",
    "from time import sleep\n",
    "from IPython.display import clear_output\n",
    "\n",
    "from fonctions import * # TODO remove by moving content in the notebook\n",
    "\n",
    "# Set the seed of the random number generator.\n",
    "# `np.random.seed(value)` is considered a legacy function,\n",
    "# so let's use a `np.random.Generator`\n",
    "rng: np.random.Generator = np.random.default_rng(seed=112358)"
   ]
  },
  {
   "cell_type": "markdown",
   "metadata": {},
   "source": [
    "Notebook settings"
   ]
  },
  {
   "cell_type": "code",
   "execution_count": null,
   "metadata": {},
   "outputs": [],
   "source": [
    "EXPORT_FIGURES = True"
   ]
  },
  {
   "cell_type": "markdown",
   "metadata": {},
   "source": [
    "# Objective function\n",
    "\n",
    "Define the function to minimize : $f(x) = −0.02x \\times sin(0.01 x \\times 2 \\pi) − 4$\n",
    "\n",
    "With $x$ an integer between $0$ and $2^8 = 255$ included."
   ]
  },
  {
   "cell_type": "code",
   "execution_count": null,
   "metadata": {},
   "outputs": [],
   "source": [
    "function_to_minimize = lambda x: -0.02 * x * np.sin(0.01*x*2*np.pi) - 4\n",
    "\n",
    "# compute its value over the domain\n",
    "x = np.arange(0, 2**8) # range [0, 2^8=256[ -> [0, 255]\n",
    "y = function_to_minimize(x) # evaluate all values in x\n",
    "\n",
    "# define how to plot the function\n",
    "def plot_objective_function(x: np.ndarray, y: np.ndarray) -> go.Figure:\n",
    "    fig = go.Figure(\n",
    "        go.Scatter(x=x,y=y,mode='lines'),\n",
    "        layout_xaxis_range=[0,255],\n",
    "        layout_yaxis_range=[-9,0]\n",
    "    )\n",
    "    fig.update_layout(title_text=\"Function to minimize\")\n",
    "    return fig\n",
    "\n",
    "# plot the function\n",
    "fig = plot_objective_function(x,y)\n",
    "fig.show()\n",
    "\n",
    "if EXPORT_FIGURES:\n",
    "    fig.write_image(\"function_to_minimize.png\")\n",
    "\n",
    "print(f\"The minimum is {np.min(y):0.2f} at x={np.argmin(y)}\")"
   ]
  },
  {
   "cell_type": "markdown",
   "metadata": {},
   "source": [
    "# Binary representation\n",
    "\n",
    "In order to use a genetic algorithm, we must be able to represent solutions (= individuals) as chromosomes -> alleles vector.\n",
    "\n",
    "The simplest way to do so with integers is to use their binary representation.\n",
    "\n",
    "But there is a catch: to enforce adjacent inputs to have adjacent binary codes, we must use the [Gray code](https://en.wikipedia.org/wiki/Gray_code).\n",
    "\n",
    "This way, the binary representation of two successive integers will differ in only one bit.\n",
    "\n",
    "We need to functions, `dec2gc()` to compute the Gray code of a decimal number, and `gc2dec()` the inverse."
   ]
  },
  {
   "cell_type": "code",
   "execution_count": null,
   "metadata": {},
   "outputs": [],
   "source": [
    "# https://www.geeksforgeeks.org/decimal-equivalent-gray-code-inverse/\n",
    "\n",
    "def dec2gc(dec,N):\n",
    "    \"\"\"\n",
    "    Decimal to Gray code conversion\n",
    "    \"\"\"\n",
    "    binary = dec\n",
    "    binary ^= (binary >> 1) # conversion happens here\n",
    "    # convert to string with bin(), remove '0b', pad with '0's for fixed width\n",
    "    binary = '{:0>{width}}'.format(bin(binary)[2:], 'b', width=N)\n",
    "    # separate chars with ' ' and use this separator to get an int array\n",
    "    return np.fromstring(\" \".join(binary),dtype=int,sep=\" \")\n",
    "\n",
    "def gc2dec(gc):\n",
    "    \"\"\"\n",
    "    Gray code to decimal conversion\n",
    "    \"\"\"\n",
    "    #create a string from the array\n",
    "    gc = np.array2string(gc, separator='')[1:-1]\n",
    "    gc = int(gc,base=2)\n",
    "    inv = 0\n",
    "    while(gc):\n",
    "        inv = inv ^ gc\n",
    "        gc = gc >> 1\n",
    "    return inv"
   ]
  },
  {
   "cell_type": "markdown",
   "metadata": {},
   "source": [
    "Test the conversion functions"
   ]
  },
  {
   "cell_type": "code",
   "execution_count": null,
   "metadata": {},
   "outputs": [],
   "source": [
    "\n",
    "decimal_value = np.random.randint(0,2**8) # random 8 bits integer\n",
    "gray_code = dec2gc(decimal_value,8)\n",
    "print(f\"The Gray code (on 8 bits) of {decimal_value} is\\n{gray_code}\\n\")\n",
    "back_to_decimal = gc2dec(gray_code)\n",
    "print(f\"The decimal value of\\n{gray_code} is {back_to_decimal}\")\n",
    "assert(back_to_decimal == decimal_value)"
   ]
  },
  {
   "cell_type": "markdown",
   "metadata": {},
   "source": [
    "# Generation of the initial population\n",
    "\n",
    "The population is stored as a $N ~ \\text{individuals} \\times 8 ~ \\text{genes}$ matrix. Here $N=20$.\n",
    "\n",
    "Option A : pre-generated random individuals"
   ]
  },
  {
   "cell_type": "code",
   "execution_count": null,
   "metadata": {},
   "outputs": [],
   "source": [
    "population = np.array([[1,1,0,1,0,0,0,1],\n",
    "                       [1,0,0,0,1,1,1,1],\n",
    "                       [0,1,1,1,1,0,0,0],\n",
    "                       [1,1,1,1,1,1,1,1],\n",
    "                       [1,1,0,1,1,0,1,0],\n",
    "                       [0,1,0,1,0,1,1,0],\n",
    "                       [0,1,0,1,1,0,0,0],\n",
    "                       [1,0,1,0,1,1,0,0],\n",
    "                       [1,1,1,0,0,1,0,0],\n",
    "                       [1,0,1,0,1,1,1,0],\n",
    "                       [0,1,0,1,0,0,0,0],\n",
    "                       [1,0,1,0,0,0,1,0],\n",
    "                       [1,0,1,1,1,0,0,1],\n",
    "                       [0,0,0,0,1,1,0,1],\n",
    "                       [1,0,0,1,1,0,0,0],\n",
    "                       [0,1,0,0,0,1,0,0],\n",
    "                       [0,1,1,0,1,1,1,0],\n",
    "                       [1,0,0,0,0,1,1,1],\n",
    "                       [1,1,1,1,0,0,1,0],\n",
    "                       [1,0,0,0,0,0,0,0]], dtype=int)"
   ]
  },
  {
   "cell_type": "markdown",
   "metadata": {},
   "source": [
    "Option B : populate the initial population with random individuals"
   ]
  },
  {
   "cell_type": "code",
   "execution_count": null,
   "metadata": {},
   "outputs": [],
   "source": [
    "population = rng.integers(low=0, high=2, size=(20,8))"
   ]
  },
  {
   "cell_type": "markdown",
   "metadata": {},
   "source": [
    "Plot the population"
   ]
  },
  {
   "cell_type": "code",
   "execution_count": null,
   "metadata": {},
   "outputs": [],
   "source": [
    "# define how to plot a given population\n",
    "def plot_population(x,y,population) -> go.Figure:\n",
    "    fig = plot_objective_function(x,y)\n",
    "    x_population = np.apply_along_axis((lambda x: float(gc2dec(x))), axis=1, arr=population)\n",
    "    y_population = function_to_minimize(x_population)\n",
    "    fig.add_trace(go.Scatter(\n",
    "        x=x_population,\n",
    "        y=y_population,\n",
    "        mode='markers',\n",
    "        marker_color='black',\n",
    "        marker_size=10\n",
    "    ))\n",
    "    fig.layout.update(showlegend=False) # remove legend\n",
    "    return fig\n",
    "\n",
    "# plot the initial population\n",
    "fig = plot_population(x,y,population)\n",
    "fig.update_layout(title_text='Initial population')\n",
    "fig.show()\n",
    "\n",
    "if EXPORT_FIGURES:\n",
    "    fig.write_image(\"initial_population.png\")"
   ]
  },
  {
   "cell_type": "markdown",
   "metadata": {},
   "source": [
    "## Test `calcul_scores_population`, `afficher_population_et_scores` et `afficher_stats_scores`"
   ]
  },
  {
   "cell_type": "code",
   "execution_count": null,
   "metadata": {},
   "outputs": [],
   "source": [
    "scores = calcul_scores_population(population)\n",
    "afficher_population_et_scores(population,scores)\n",
    "afficher_stats_scores(scores,0)"
   ]
  },
  {
   "cell_type": "markdown",
   "metadata": {},
   "source": [
    "## Test selection"
   ]
  },
  {
   "cell_type": "code",
   "execution_count": null,
   "metadata": {},
   "outputs": [],
   "source": [
    "a = np.array([[0,0],\n",
    "              [0,1],\n",
    "              [1,0],\n",
    "              [1,1]])\n",
    "scores = np.array([[0.5],\n",
    "                   [1.2],\n",
    "                   [0.1],\n",
    "                   [5.2]])\n",
    "afficher_population_et_scores(a,scores)"
   ]
  },
  {
   "cell_type": "code",
   "execution_count": null,
   "metadata": {},
   "outputs": [],
   "source": [
    "individus_selectiones = selection(a,scores)\n",
    "print(individus_selectiones)"
   ]
  },
  {
   "cell_type": "markdown",
   "metadata": {},
   "source": [
    "## Test melange_parents"
   ]
  },
  {
   "cell_type": "code",
   "execution_count": null,
   "metadata": {},
   "outputs": [],
   "source": [
    "a_melange = melange_parents(a)\n",
    "print(a_melange)"
   ]
  },
  {
   "cell_type": "markdown",
   "metadata": {},
   "source": [
    "## Test `croisement`"
   ]
  },
  {
   "cell_type": "code",
   "execution_count": null,
   "metadata": {},
   "outputs": [],
   "source": [
    "p1 = np.array([0,0,0,1,1,0,1,1])\n",
    "p2 = np.array([1,0,1,1,0,0,1,0])\n",
    "(e1,e2,point_croisement) = croisement(p1,p2)\n",
    "print(\"Parents:\")\n",
    "afficher_genes_individu(p1)\n",
    "print()\n",
    "afficher_genes_individu(p2)\n",
    "print()\n",
    "print(\"Enfants:\")\n",
    "afficher_genes_individu(e1)\n",
    "print()\n",
    "afficher_genes_individu(e2)\n",
    "print()\n",
    "#print(\"point de croisement = \",point_croisement)\n",
    "print(\" \"*(point_croisement)+\"][\")\n",
    "print(\"(point_croisement=\"+str(point_croisement)+\")\")"
   ]
  },
  {
   "cell_type": "markdown",
   "metadata": {},
   "source": [
    "## Test `index_des_meilleurs`"
   ]
  },
  {
   "cell_type": "code",
   "execution_count": null,
   "metadata": {},
   "outputs": [],
   "source": [
    "scores2 = np.array([[0.5],#0\n",
    "                    [1.2],#1\n",
    "                    [0.1],#2\n",
    "                    [5.2],#3\n",
    "                    [0.7],#4\n",
    "                    [0.9],#5\n",
    "                    [4.0],#6\n",
    "                    [3.1]])#7\n",
    "meilleurs = index_des_meilleurs(scores2,4)\n",
    "pires = index_des_pires(scores2,5)\n",
    "print(\"meilleurs=\",meilleurs)\n",
    "print(\"pires=\",pires)"
   ]
  },
  {
   "cell_type": "code",
   "execution_count": null,
   "metadata": {},
   "outputs": [],
   "source": [
    "proba_croisement = 0.8\n",
    "proba_mutation = 0.08\n",
    "max_generations = 100\n",
    "nb_individus_remplaces = 5\n",
    "afficher_etapes = True\n",
    "afficher_evolution_du_score = True\n",
    "scores_moyens = np.zeros((1,max_generations+1))\n",
    "meilleurs_scores = np.zeros((1,max_generations+1))\n",
    "boucle_optimisation(population,proba_croisement,proba_mutation,max_generations,nb_individus_remplaces,afficher_etapes,afficher_evolution_du_score,scores_moyens,meilleurs_scores)"
   ]
  },
  {
   "cell_type": "markdown",
   "metadata": {},
   "source": [
    "Then to obain a GIF of the evolving population, with [Gifski](https://github.com/ImageOptim/gifski/) :\n",
    "```bash\n",
    "gifski -o anim.gif generation_*.png --fps 4\n",
    "```"
   ]
  },
  {
   "cell_type": "markdown",
   "metadata": {},
   "source": []
  }
 ],
 "metadata": {
  "interpreter": {
   "hash": "6b304e056ab2e04bd32ce387bd5718e3059915cbf5f61cc3ea41defd4728d2e6"
  },
  "kernelspec": {
   "display_name": "Python 3.8.2 64-bit (system)",
   "language": "python",
   "name": "python3"
  },
  "language_info": {
   "codemirror_mode": {
    "name": "ipython",
    "version": 3
   },
   "file_extension": ".py",
   "mimetype": "text/x-python",
   "name": "python",
   "nbconvert_exporter": "python",
   "pygments_lexer": "ipython3",
   "version": "3.12.1"
  },
  "orig_nbformat": 4
 },
 "nbformat": 4,
 "nbformat_minor": 2
}
