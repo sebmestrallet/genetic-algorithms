{
 "cells": [
  {
   "cell_type": "markdown",
   "metadata": {},
   "source": [
    "# Genetic algorithms: 1D example\n",
    "\n",
    "Import some packages/modules"
   ]
  },
  {
   "cell_type": "code",
   "execution_count": null,
   "metadata": {},
   "outputs": [],
   "source": [
    "import numpy as np\n",
    "import pandas as pd\n",
    "from random import random\n",
    "import plotly.express as px\n",
    "import plotly.graph_objects as go\n",
    "from time import sleep\n",
    "from IPython.display import clear_output\n",
    "from rich.table import Table\n",
    "from rich.theme import Theme\n",
    "from rich.console import Console\n",
    "from rich.panel import Panel\n",
    "from icecream import ic\n",
    "\n",
    "from fonctions import * # TODO remove by moving content in the notebook\n",
    "\n",
    "# Set the seed of the random number generator.\n",
    "# `np.random.seed(value)` is considered a legacy function,\n",
    "# so let's use a `np.random.Generator`\n",
    "rng: np.random.Generator = np.random.default_rng(seed=112358)\n",
    "\n",
    "# create a Rich Console object\n",
    "# TODO not a global var, pass it to function\n",
    "console = Console(theme=Theme({\"repr.number\": \"\"})) # no special style for numbers, affecting chromosome printing"
   ]
  },
  {
   "cell_type": "markdown",
   "metadata": {},
   "source": [
    "Notebook settings"
   ]
  },
  {
   "cell_type": "code",
   "execution_count": null,
   "metadata": {},
   "outputs": [],
   "source": [
    "EXPORT_FIGURES = True"
   ]
  },
  {
   "cell_type": "markdown",
   "metadata": {},
   "source": [
    "# Objective function\n",
    "\n",
    "Define the function to minimize : $f(x) = −0.02x \\times sin(0.01 x \\times 2 \\pi) − 4$\n",
    "\n",
    "With $x$ an integer between $0$ and $2^8 = 255$ included.\n",
    "\n",
    "Within the framework of genetic algorithms, we seek to maximize the fitness score of individuals, regarding their environment &rarr; the score is therefore $-f(x)$.\n",
    "\n",
    "$f(x)$ is defined so that the score is always positive."
   ]
  },
  {
   "cell_type": "code",
   "execution_count": null,
   "metadata": {},
   "outputs": [],
   "source": [
    "function_to_minimize = lambda x: -0.02 * x * np.sin(0.01*x*2*np.pi) - 4\n",
    "\n",
    "fitness_score = lambda x: -function_to_minimize(x)\n",
    "\n",
    "# compute its value over the domain\n",
    "x = np.arange(0, 2**8) # range [0, 2^8=256[ -> [0, 255]\n",
    "y = function_to_minimize(x) # evaluate all values in x\n",
    "\n",
    "# define how to plot the function\n",
    "def plot_objective_function(x: np.ndarray, y: np.ndarray) -> go.Figure:\n",
    "    fig = go.Figure(\n",
    "        go.Scatter(x=x,y=y,mode='lines',name='objective function'),\n",
    "        layout_xaxis_range=[0,255],\n",
    "        layout_yaxis_range=[-9,0]\n",
    "    )\n",
    "    fig.update_layout(title_text=\"Function to minimize\")\n",
    "    return fig\n",
    "\n",
    "# plot the function\n",
    "fig = plot_objective_function(x,y)\n",
    "fig.show()\n",
    "\n",
    "if EXPORT_FIGURES:\n",
    "    fig.write_image(\"function_to_minimize.png\")\n",
    "\n",
    "print(f\"The minimum is {np.min(y):0.2f} at x={np.argmin(y)}\")"
   ]
  },
  {
   "cell_type": "markdown",
   "metadata": {},
   "source": [
    "# Binary representation\n",
    "\n",
    "In order to use a genetic algorithm, we must be able to represent solutions (= individuals) as chromosomes -> alleles vector.\n",
    "\n",
    "The simplest way to do so with integers is to use their binary representation.\n",
    "\n",
    "But there is a catch: to enforce adjacent inputs to have adjacent binary codes, we must use the [Gray code](https://en.wikipedia.org/wiki/Gray_code).\n",
    "\n",
    "This way, the binary representation of two successive integers will differ in only one bit.\n",
    "\n",
    "We need to functions, `dec2gc()` to compute the Gray code of a decimal number, and `gc2dec()` the inverse."
   ]
  },
  {
   "cell_type": "code",
   "execution_count": null,
   "metadata": {},
   "outputs": [],
   "source": [
    "# https://www.geeksforgeeks.org/decimal-equivalent-gray-code-inverse/\n",
    "\n",
    "def dec2gc(dec,N):\n",
    "    \"\"\"\n",
    "    Decimal to Gray code conversion\n",
    "    \"\"\"\n",
    "    binary = dec\n",
    "    binary ^= (binary >> 1) # conversion happens here\n",
    "    # convert to string with bin(), remove '0b', pad with '0's for fixed width\n",
    "    binary = '{:0>{width}}'.format(bin(binary)[2:], 'b', width=N)\n",
    "    # separate chars with ' ' and use this separator to get an int array\n",
    "    return np.fromstring(\" \".join(binary),dtype=int,sep=\" \")\n",
    "\n",
    "def gc2dec(gc):\n",
    "    \"\"\"\n",
    "    Gray code to decimal conversion\n",
    "    \"\"\"\n",
    "    #create a string from the array\n",
    "    gc = np.array2string(gc, separator='')[1:-1]\n",
    "    gc = int(gc,base=2)\n",
    "    inv = 0\n",
    "    while(gc):\n",
    "        inv = inv ^ gc\n",
    "        gc = gc >> 1\n",
    "    return inv"
   ]
  },
  {
   "cell_type": "markdown",
   "metadata": {},
   "source": [
    "Test the conversion functions"
   ]
  },
  {
   "cell_type": "code",
   "execution_count": null,
   "metadata": {},
   "outputs": [],
   "source": [
    "\n",
    "decimal_value = np.random.randint(0,2**8) # random 8 bits integer\n",
    "gray_code = dec2gc(decimal_value,8)\n",
    "print(f\"The Gray code (on 8 bits) of {decimal_value} is\\n{gray_code}\\n\")\n",
    "back_to_decimal = gc2dec(gray_code)\n",
    "print(f\"The decimal value of\\n{gray_code} is {back_to_decimal}\")\n",
    "assert(back_to_decimal == decimal_value)"
   ]
  },
  {
   "cell_type": "markdown",
   "metadata": {},
   "source": [
    "Compact string representation of chromosomes"
   ]
  },
  {
   "cell_type": "code",
   "execution_count": null,
   "metadata": {},
   "outputs": [],
   "source": [
    "chromosome2str = lambda chromosome: ''.join([str(allele) for allele in chromosome]) # `chromosome` being a numpy array of int (row of `population` defined below)\n",
    "\n",
    "chromosome2str(gray_code)"
   ]
  },
  {
   "cell_type": "markdown",
   "metadata": {},
   "source": [
    "# Generation of the initial population\n",
    "\n",
    "The population is stored as a $N ~ \\text{individuals} \\times 8 ~ \\text{genes}$ matrix. Here $N=20$.\n",
    "\n",
    "Option A : pre-generated random individuals"
   ]
  },
  {
   "cell_type": "code",
   "execution_count": null,
   "metadata": {},
   "outputs": [],
   "source": [
    "population = np.array([[1,1,0,1,0,0,0,1],\n",
    "                       [1,0,0,0,1,1,1,1],\n",
    "                       [0,1,1,1,1,0,0,0],\n",
    "                       [1,1,1,1,1,1,1,1],\n",
    "                       [1,1,0,1,1,0,1,0],\n",
    "                       [0,1,0,1,0,1,1,0],\n",
    "                       [0,1,0,1,1,0,0,0],\n",
    "                       [1,0,1,0,1,1,0,0],\n",
    "                       [1,1,1,0,0,1,0,0],\n",
    "                       [1,0,1,0,1,1,1,0],\n",
    "                       [0,1,0,1,0,0,0,0],\n",
    "                       [1,0,1,0,0,0,1,0],\n",
    "                       [1,0,1,1,1,0,0,1],\n",
    "                       [0,0,0,0,1,1,0,1],\n",
    "                       [1,0,0,1,1,0,0,0],\n",
    "                       [0,1,0,0,0,1,0,0],\n",
    "                       [0,1,1,0,1,1,1,0],\n",
    "                       [1,0,0,0,0,1,1,1],\n",
    "                       [1,1,1,1,0,0,1,0],\n",
    "                       [1,0,0,0,0,0,0,0]], dtype=int)"
   ]
  },
  {
   "cell_type": "markdown",
   "metadata": {},
   "source": [
    "Option B : populate the initial population with random individuals"
   ]
  },
  {
   "cell_type": "code",
   "execution_count": null,
   "metadata": {},
   "outputs": [],
   "source": [
    "population = rng.integers(low=0, high=2, size=(20,8))"
   ]
  },
  {
   "cell_type": "markdown",
   "metadata": {},
   "source": [
    "Evaluate each individual of the initial population"
   ]
  },
  {
   "cell_type": "code",
   "execution_count": null,
   "metadata": {},
   "outputs": [],
   "source": [
    "# define how to evaluate a given population\n",
    "def evaluate_population(population: np.ndarray) -> np.ndarray:\n",
    "    scores = np.zeros((population.shape[0],1)) # a column vector of size N, N = number of individuals\n",
    "    for idx in range(0,population.shape[0]):\n",
    "        scores[idx] = fitness_score(gc2dec(population[idx,:]))\n",
    "    return scores\n",
    "\n",
    "# evaluate the initial population\n",
    "scores: np.ndarray = evaluate_population(population)\n",
    "\n",
    "# define how to display the scores\n",
    "def display_scores(population: np.ndarray, scores: np.ndarray, console: Console):\n",
    "    assert(population.shape[0] == scores.shape[0])\n",
    "    table = Table(title=\"Fitness scores\")\n",
    "    table.add_column('Index')\n",
    "    table.add_column('Chromosome')\n",
    "    table.add_column('Score')\n",
    "    for idx in range(0,population.shape[0]):\n",
    "        table.add_row(\n",
    "            str(idx),\n",
    "            chromosome2str(population[idx,:]),\n",
    "            f'{scores[idx,0]:0.2f}'\n",
    "        )\n",
    "    console.print(table)\n",
    "\n",
    "def compute_stats(values: np.ndarray) -> tuple[float,float,float]:\n",
    "    return values.mean(), values.max(), values.std()\n",
    "\n",
    "def print_generation_stats(mean: float, max: float, std: float):\n",
    "    console.print(\n",
    "        Panel.fit(\n",
    "            f'mean score = {mean:0.2f}\\n' +\n",
    "            f'best score = {max:0.2f}\\n' +\n",
    "            f' std. dev. = {std:0.2f}',\n",
    "            title=f'Score stats'\n",
    "        )\n",
    "    )\n",
    "\n",
    "# display the scores of the initial population\n",
    "display_scores(population,scores,console)\n",
    "mean, max, std = compute_stats(scores)\n",
    "print_generation_stats(mean,max,std)"
   ]
  },
  {
   "cell_type": "markdown",
   "metadata": {},
   "source": [
    "Plot the population"
   ]
  },
  {
   "cell_type": "code",
   "execution_count": null,
   "metadata": {},
   "outputs": [],
   "source": [
    "# define how to plot a given population\n",
    "def plot_population(x,y,population) -> go.Figure:\n",
    "    fig = plot_objective_function(x,y)\n",
    "    x_population = np.apply_along_axis((lambda x: float(gc2dec(x))), axis=1, arr=population)\n",
    "    y_population = function_to_minimize(x_population)\n",
    "    fig.add_trace(go.Scatter(\n",
    "        x=x_population,\n",
    "        y=y_population,\n",
    "        mode='markers',\n",
    "        marker_color='black',\n",
    "        marker_size=10,\n",
    "        name='individuals'\n",
    "    ))\n",
    "    fig.layout.update(showlegend=False) # remove legend\n",
    "    return fig\n",
    "\n",
    "# plot the initial population\n",
    "fig = plot_population(x,y,population)\n",
    "fig.update_layout(title_text='Initial population')\n",
    "fig.show()\n",
    "\n",
    "if EXPORT_FIGURES:\n",
    "    fig.write_image(\"initial_population.png\")"
   ]
  },
  {
   "cell_type": "markdown",
   "metadata": {},
   "source": [
    "# Crossover\n",
    "\n",
    "In pairs, the chromosomes of two individuals are recombined according to a crossover point"
   ]
  },
  {
   "cell_type": "code",
   "execution_count": null,
   "metadata": {},
   "outputs": [],
   "source": [
    "def individuals_crossover(parent1: np.ndarray, parent2: np.ndarray, crossover_point: int) -> tuple[np.ndarray, np.ndarray]:\n",
    "    assert(parent1.shape == (8,))\n",
    "    assert(parent2.shape == (8,))\n",
    "    # chromosomes of 8 genes\n",
    "    # |0|1|2|3|4|5|6|7|\n",
    "    #   ^ ^ ^ ^ ^ ^ ^\n",
    "    #   0 1 2 3 4 5 6\n",
    "    # -> 7 crossover points possible\n",
    "    assert(crossover_point >= 0)\n",
    "    assert(crossover_point <= 6)\n",
    "    child1 = np.copy(parent1)\n",
    "    child2 = np.copy(parent2)\n",
    "    temp = np.copy(child1[0:crossover_point+1]) # copy the first chunk of child1\n",
    "    child1[0:crossover_point+1] = np.copy(child2[0:crossover_point+1]) # replace the first chunk of child1 by the first chunk of child2\n",
    "    child2[0:crossover_point+1] = np.copy(temp) # replace the first chunk of child2 by the saved first chunk of child1\n",
    "    return child1, child2\n",
    "\n",
    "# define how to visualize a crossover between two chromosomes\n",
    "\n",
    "def display_crossover(parent1: np.ndarray, parent2: np.ndarray, crossover_point: int, child1: np.ndarray, child2: np.ndarray):\n",
    "    console.print(\n",
    "        f'parent1 : [bright_red]{chromosome2str(parent1)}[/]\\n'\n",
    "        f'parent2 : [bright_cyan]{chromosome2str(parent2)}[/]\\n'\n",
    "        f' child1 : [bright_cyan]{chromosome2str(child1)[:crossover_point+1]}[/][bright_red]{chromosome2str(child1)[crossover_point+1:]}[/]\\n'\n",
    "        f' child2 : [bright_red]{chromosome2str(child2)[:crossover_point+1]}[/][bright_cyan]{chromosome2str(child2)[crossover_point+1:]}[/]'\n",
    "    )\n",
    "\n",
    "# With predefined parents and crossover point\n",
    "\n",
    "parent1 = np.array([1,1,0,1,0,0,0,1], dtype=int)\n",
    "parent2 = np.array([0,0,0,0,1,1,0,1], dtype=int)\n",
    "crossover_point = 3\n",
    "child1, child2 = individuals_crossover(parent1,parent2,crossover_point)\n",
    "display_crossover(\n",
    "    parent1,\n",
    "    parent2,\n",
    "    crossover_point,\n",
    "    child1,\n",
    "    child2\n",
    ")"
   ]
  },
  {
   "cell_type": "markdown",
   "metadata": {},
   "source": [
    "To apply the crossover on the whole population, we have to\n",
    "1. Shuffle the population\n",
    "1. Group parents in pairs\n",
    "1. For each pair, pick a random number according to a crossover probability\n",
    "   If no crossover for the current pair, copy the parents chromosomes into the children ones"
   ]
  },
  {
   "cell_type": "code",
   "execution_count": null,
   "metadata": {},
   "outputs": [],
   "source": [
    "crossover_probability = 0.8\n",
    "\n",
    "def population_crossover(parents: np.ndarray, crossover_probability: float, rng: np.random.Generator, display_crossovers: bool = False) -> np.ndarray:\n",
    "    # shuffle the parents\n",
    "    parents = parents[rng.permutation(parents.shape[0])]\n",
    "    children = np.copy(parents)\n",
    "    for i in np.arange(0,parents.shape[0],2): # two by two\n",
    "        parent1 = parents[i,:]\n",
    "        parent2 = parents[i+1,:]\n",
    "        if rng.uniform(low=0.0, high=1.0) < crossover_probability:\n",
    "            # generate a random crossover point\n",
    "            crossover_point = rng.integers(low=0, high=6, size=1, dtype=int, endpoint=True)[0] \n",
    "            children[i,:], children[i+1,:] = individuals_crossover(\n",
    "                parent1,\n",
    "                parent2,\n",
    "                crossover_point\n",
    "            )\n",
    "            if display_crossovers:\n",
    "                display_crossover(\n",
    "                    parent1,\n",
    "                    parent2,\n",
    "                    crossover_point,\n",
    "                    children[i,:],\n",
    "                    children[i+1,:]\n",
    "                )\n",
    "        else:\n",
    "            # no crossover, leave parents chromosomes in children[i,:] and children[i+1,:]\n",
    "            if display_crossovers:\n",
    "                # like display_crossover() but no colors\n",
    "                print(\n",
    "                    f'parent1 : {chromosome2str(parent1)}\\n'\n",
    "                    f'parent2 : {chromosome2str(parent2)}\\n'\n",
    "                    f' child1 : {chromosome2str(children[i,:])}\\n'\n",
    "                    f' child2 : {chromosome2str(children[i+1,:])}\\n'\n",
    "                )\n",
    "    return children\n",
    "\n",
    "children = population_crossover(population,crossover_probability,rng,True)"
   ]
  },
  {
   "cell_type": "markdown",
   "metadata": {},
   "source": [
    "# Mutation\n",
    "\n",
    "At random, some gene the individuals are altered to express the other allele (bit flip)"
   ]
  },
  {
   "cell_type": "code",
   "execution_count": null,
   "metadata": {},
   "outputs": [],
   "source": [
    "mutation_probability = 0.08\n",
    "\n",
    "def population_mutation(population: np.ndarray, mutation_probability: float, rng: np.random.Generator, display_mutations: bool = False) -> np.ndarray:\n",
    "    to_print = ''\n",
    "    for idx in range(population.shape[0]):\n",
    "        if display_mutations:\n",
    "            to_print += chromosome2str(population[idx,:]) + ' -> '\n",
    "        for gene in range(8):\n",
    "            if rng.uniform(low=0.0, high=1.0) < mutation_probability:\n",
    "                population[idx,gene] = int(not bool(population[idx,gene])) # binary complement\n",
    "                if display_mutations:\n",
    "                    to_print += f'[orange1]{population[idx,gene]}[/]'\n",
    "            else:\n",
    "                if display_mutations:\n",
    "                    to_print += str(population[idx,gene])\n",
    "        if display_mutations:\n",
    "            to_print += '\\n'\n",
    "    if display_mutations:\n",
    "        console.print(to_print)\n",
    "\n",
    "population_mutation(children,mutation_probability,rng,True)"
   ]
  },
  {
   "cell_type": "markdown",
   "metadata": {},
   "source": [
    "# Selection\n",
    "\n",
    "It consist of replacing some of the parents (individuals of the last generation) with some children (individuals go through crossover and mutations), to obtain a new generation.\n",
    "\n",
    "Several strategies are possible:\n",
    "- Keeping the overall $N$ best individuals\n",
    "- Replacing the $n$ worse parents by the $n$ best children\n",
    "- Roulette wheel\n",
    "- Tournament\n",
    "\n",
    "Here we will implement the 2nd one."
   ]
  },
  {
   "cell_type": "code",
   "execution_count": null,
   "metadata": {},
   "outputs": [],
   "source": [
    "def indices_of_the_best(scores: np.ndarray, n: int) -> np.ndarray:\n",
    "    original_indices = np.arange(scores.shape[0])\n",
    "    sorting_indices = np.argsort(scores,0) # the indices sorting the scores\n",
    "    sorted_original_indices = original_indices[sorting_indices[::-1]] # apply them on the original indices\n",
    "    return sorted_original_indices[:n] # keep only the n^th first\n",
    "\n",
    "def indices_of_the_worse(scores: np.ndarray, n: int) -> np.ndarray:\n",
    "    original_indices = np.arange(scores.shape[0])\n",
    "    sorting_indices = np.argsort(scores,0) # the indices sorting the scores\n",
    "    sorted_original_indices = original_indices[sorting_indices[::1]] # apply them on the original indices\n",
    "    return sorted_original_indices[:n] # keep only the n^th first\n",
    "\n",
    "n = 10 # the 10 worse parents will be replaced by the 10 best children\n",
    "\n",
    "def selection(parents: np.ndarray, children: np.ndarray, n, display_diff: bool = False) -> np.ndarray:\n",
    "    new_population = np.copy(parents)\n",
    "\n",
    "    # recompute the scores of the parents, because the crossover shuffled them\n",
    "    parents_scores = evaluate_population(parents)\n",
    "\n",
    "    # compute the scores of the children\n",
    "    children_scores = evaluate_population(children)\n",
    "\n",
    "    indices_of_worse_parents = indices_of_the_worse(parents_scores,n)\n",
    "    indices_of_best_children = indices_of_the_best(children_scores,n)\n",
    "\n",
    "    if display_diff:\n",
    "        # based on display_scores()\n",
    "        table = Table(title=\"Parents\")\n",
    "        table.add_column('Index')\n",
    "        table.add_column('Chromosome')\n",
    "        table.add_column('Score')\n",
    "        for idx in range(0,parents.shape[0]):\n",
    "            score_str = f'{parents_scores[idx,0]:0.2f}'\n",
    "            table.add_row(\n",
    "                str(idx),\n",
    "                chromosome2str(parents[idx,:]),\n",
    "                score_str if idx not in indices_of_worse_parents else ('[bright_red]'+score_str+'[/]')\n",
    "            )\n",
    "        console.print(table)\n",
    "        table = Table(title=\"Children\")\n",
    "        table.add_column('Index')\n",
    "        table.add_column('Chromosome')\n",
    "        table.add_column('Score')\n",
    "        for idx in range(0,children.shape[0]):\n",
    "            score_str = f'{children_scores[idx,0]:0.2f}'\n",
    "            table.add_row(\n",
    "                str(idx),\n",
    "                chromosome2str(children[idx,:]),\n",
    "                score_str if idx not in indices_of_best_children else ('[bright_green]'+score_str+'[/]')\n",
    "            )\n",
    "        console.print(table)\n",
    "    \n",
    "    # actual replacement\n",
    "    for i in range(n):\n",
    "        # replacement in the population of one of the worse parent\n",
    "        # by one of the best child\n",
    "        new_population[indices_of_worse_parents[i],:] = children[indices_of_best_children[i],:]\n",
    "    return new_population\n",
    "    # TODO also update & return scores?\n",
    "\n",
    "# replace `population` with the new population\n",
    "population = selection(population,children,n,True)"
   ]
  },
  {
   "cell_type": "markdown",
   "metadata": {},
   "source": [
    "Evaluate and plot the new generation"
   ]
  },
  {
   "cell_type": "code",
   "execution_count": null,
   "metadata": {},
   "outputs": [],
   "source": [
    "generation = 1\n",
    "scores = evaluate_population(population)\n",
    "print('new population:')\n",
    "display_scores(population,scores,console)\n",
    "mean, max, std = compute_stats(scores)\n",
    "print_generation_stats(mean,max,std)\n",
    "\n",
    "# plot the new population (generation 1)\n",
    "fig = plot_population(x,y,population)\n",
    "fig.update_layout(title_text=f'Generation {generation}')\n",
    "fig.show()\n",
    "\n",
    "if EXPORT_FIGURES:\n",
    "    fig.write_image(f'generation_{generation}.png')"
   ]
  },
  {
   "cell_type": "markdown",
   "metadata": {},
   "source": [
    "---"
   ]
  },
  {
   "cell_type": "code",
   "execution_count": null,
   "metadata": {},
   "outputs": [],
   "source": [
    "proba_croisement = 0.8\n",
    "proba_mutation = 0.08\n",
    "max_generations = 100\n",
    "nb_individus_remplaces = 5\n",
    "afficher_etapes = True\n",
    "afficher_evolution_du_score = True\n",
    "scores_moyens = np.zeros((1,max_generations+1))\n",
    "meilleurs_scores = np.zeros((1,max_generations+1))\n",
    "boucle_optimisation(population,proba_croisement,proba_mutation,max_generations,nb_individus_remplaces,afficher_etapes,afficher_evolution_du_score,scores_moyens,meilleurs_scores)"
   ]
  },
  {
   "cell_type": "markdown",
   "metadata": {},
   "source": [
    "Then to obain a GIF of the evolving population, with [Gifski](https://github.com/ImageOptim/gifski/) :\n",
    "```bash\n",
    "gifski -o anim.gif generation_*.png --fps 4\n",
    "```"
   ]
  }
 ],
 "metadata": {
  "interpreter": {
   "hash": "6b304e056ab2e04bd32ce387bd5718e3059915cbf5f61cc3ea41defd4728d2e6"
  },
  "kernelspec": {
   "display_name": "Python 3.8.2 64-bit (system)",
   "language": "python",
   "name": "python3"
  },
  "language_info": {
   "codemirror_mode": {
    "name": "ipython",
    "version": 3
   },
   "file_extension": ".py",
   "mimetype": "text/x-python",
   "name": "python",
   "nbconvert_exporter": "python",
   "pygments_lexer": "ipython3",
   "version": "3.12.1"
  },
  "orig_nbformat": 4
 },
 "nbformat": 4,
 "nbformat_minor": 2
}
