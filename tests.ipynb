{
 "cells": [
  {
   "cell_type": "code",
   "execution_count": null,
   "metadata": {},
   "outputs": [],
   "source": [
    "import numpy as np\n",
    "import pandas as pd\n",
    "from fonctions import *"
   ]
  },
  {
   "cell_type": "markdown",
   "metadata": {},
   "source": [
    "## test `dec2gc` and `gc2dec`"
   ]
  },
  {
   "cell_type": "markdown",
   "metadata": {},
   "source": [
    "https://www.geeksforgeeks.org/decimal-equivalent-gray-code-inverse/"
   ]
  },
  {
   "cell_type": "code",
   "execution_count": null,
   "metadata": {},
   "outputs": [],
   "source": [
    "# def dec2gc(dec,N):\n",
    "#     dec ^= (dec >> 1)\n",
    "#     return '{:0>{width}}'.format(bin(dec)[2:], 'b', width=N)\n",
    "# def gc2dec(gc):\n",
    "#     gc = int(gc,base=2)\n",
    "#     inv = 0\n",
    "#     while(gc):\n",
    "#         inv = inv ^ gc\n",
    "#         gc = gc >> 1\n",
    "#     return inv\n",
    "\n",
    "chromosome = dec2gc(247,16)\n",
    "print(chromosome)\n",
    "print(gc2dec(chromosome))\n"
   ]
  },
  {
   "cell_type": "markdown",
   "metadata": {},
   "source": [
    "## test `tracer_population`"
   ]
  },
  {
   "cell_type": "code",
   "execution_count": null,
   "metadata": {},
   "outputs": [],
   "source": [
    "population = np.array([[1,1,0,1,0,0,0,1],\n",
    "                       [1,0,0,0,1,1,1,1],\n",
    "                       [0,1,1,1,1,0,0,0],\n",
    "                       [1,1,1,1,1,1,1,1],\n",
    "                       [1,1,0,1,1,0,1,0],\n",
    "                       [0,1,0,1,0,1,1,0],\n",
    "                       [0,1,0,1,1,0,0,0],\n",
    "                       [1,0,1,0,1,1,0,0],\n",
    "                       [1,1,1,0,0,1,0,0],\n",
    "                       [1,0,1,0,1,1,1,0],\n",
    "                       [0,1,0,1,0,0,0,0],\n",
    "                       [1,0,1,0,0,0,1,0],\n",
    "                       [1,0,1,1,1,0,0,1],\n",
    "                       [0,0,0,0,1,1,0,1],\n",
    "                       [1,0,0,1,1,0,0,0],\n",
    "                       [0,1,0,0,0,1,0,0],\n",
    "                       [0,1,1,0,1,1,1,0],\n",
    "                       [1,0,0,0,0,1,1,1],\n",
    "                       [1,1,1,1,0,0,1,0],\n",
    "                       [1,0,0,0,0,0,0,0]], dtype=int)\n",
    "tracer_population(population,\"Population initiale\")"
   ]
  },
  {
   "cell_type": "markdown",
   "metadata": {},
   "source": [
    "## Test `calcul_scores_population`, `afficher_population_et_scores` et `afficher_stats_scores`"
   ]
  },
  {
   "cell_type": "code",
   "execution_count": null,
   "metadata": {},
   "outputs": [],
   "source": [
    "scores = calcul_scores_population(population)\n",
    "afficher_population_et_scores(population,scores)\n",
    "afficher_stats_scores(scores,0)"
   ]
  },
  {
   "cell_type": "markdown",
   "metadata": {},
   "source": [
    "## Test selection"
   ]
  },
  {
   "cell_type": "code",
   "execution_count": null,
   "metadata": {},
   "outputs": [],
   "source": [
    "a = np.array([[0,0],\n",
    "              [0,1],\n",
    "              [1,0],\n",
    "              [1,1]])\n",
    "scores = np.array([[0.5],\n",
    "                   [1.2],\n",
    "                   [0.1],\n",
    "                   [5.2]])\n",
    "afficher_population_et_scores(a,scores)"
   ]
  },
  {
   "cell_type": "code",
   "execution_count": null,
   "metadata": {},
   "outputs": [],
   "source": [
    "individus_selectiones = selection(a,scores)\n",
    "print(individus_selectiones)"
   ]
  },
  {
   "cell_type": "markdown",
   "metadata": {},
   "source": [
    "## Test melange_parents"
   ]
  },
  {
   "cell_type": "code",
   "execution_count": null,
   "metadata": {},
   "outputs": [],
   "source": [
    "a_melange = melange_parents(a)\n",
    "print(a_melange)"
   ]
  },
  {
   "cell_type": "markdown",
   "metadata": {},
   "source": [
    "## Test `croisement`"
   ]
  },
  {
   "cell_type": "code",
   "execution_count": null,
   "metadata": {},
   "outputs": [],
   "source": [
    "p1 = np.array([0,0,0,1,1,0,1,1])\n",
    "p2 = np.array([1,0,1,1,0,0,1,0])\n",
    "(e1,e2,point_croisement) = croisement(p1,p2)\n",
    "print(\"Parents:\")\n",
    "afficher_genes_individu(p1)\n",
    "print()\n",
    "afficher_genes_individu(p2)\n",
    "print()\n",
    "print(\"Enfants:\")\n",
    "afficher_genes_individu(e1)\n",
    "print()\n",
    "afficher_genes_individu(e2)\n",
    "print()\n",
    "#print(\"point de croisement = \",point_croisement)\n",
    "print(\" \"*(point_croisement)+\"][\")\n",
    "print(\"(point_croisement=\"+str(point_croisement)+\")\")"
   ]
  },
  {
   "cell_type": "markdown",
   "metadata": {},
   "source": [
    "## Test `index_des_meilleurs`"
   ]
  },
  {
   "cell_type": "code",
   "execution_count": null,
   "metadata": {},
   "outputs": [],
   "source": [
    "scores2 = np.array([[0.5],#0\n",
    "                    [1.2],#1\n",
    "                    [0.1],#2\n",
    "                    [5.2],#3\n",
    "                    [0.7],#4\n",
    "                    [0.9],#5\n",
    "                    [4.0],#6\n",
    "                    [3.1]])#7\n",
    "meilleurs = index_des_meilleurs(scores2,4)\n",
    "pires = index_des_pires(scores2,5)\n",
    "print(\"meilleurs=\",meilleurs)\n",
    "print(\"pires=\",pires)"
   ]
  },
  {
   "cell_type": "code",
   "execution_count": null,
   "metadata": {},
   "outputs": [],
   "source": []
  }
 ],
 "metadata": {
  "interpreter": {
   "hash": "6b304e056ab2e04bd32ce387bd5718e3059915cbf5f61cc3ea41defd4728d2e6"
  },
  "kernelspec": {
   "display_name": "Python 3.8.2 64-bit (system)",
   "language": "python",
   "name": "python3"
  },
  "language_info": {
   "codemirror_mode": {
    "name": "ipython",
    "version": 3
   },
   "file_extension": ".py",
   "mimetype": "text/x-python",
   "name": "python",
   "nbconvert_exporter": "python",
   "pygments_lexer": "ipython3",
   "version": "3.8.2 (tags/v3.8.2:7b3ab59, Feb 25 2020, 23:03:10) [MSC v.1916 64 bit (AMD64)]"
  },
  "orig_nbformat": 4
 },
 "nbformat": 4,
 "nbformat_minor": 2
}
