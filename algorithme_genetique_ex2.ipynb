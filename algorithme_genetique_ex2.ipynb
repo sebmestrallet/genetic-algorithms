{
 "cells": [
  {
   "cell_type": "code",
   "execution_count": null,
   "metadata": {},
   "outputs": [],
   "source": [
    "import numpy as np\n",
    "import pandas as pd\n",
    "import plotly.express as px\n",
    "import plotly.graph_objects as go\n",
    "from fonctions import *"
   ]
  },
  {
   "cell_type": "code",
   "execution_count": null,
   "metadata": {},
   "outputs": [],
   "source": [
    "taille_population = 20 #doit être multiple de 4 (/2 -> enfants, /2 -> paires d'enfants)\n",
    "proba_croisement = 0.8\n",
    "proba_mutation = 0.08\n",
    "nb_individus_remplaces = 5\n",
    "afficher_etapes = False\n",
    "afficher_evolution_du_score = False"
   ]
  },
  {
   "cell_type": "code",
   "execution_count": null,
   "metadata": {},
   "outputs": [],
   "source": [
    "num_generation = 0\n",
    "max_generations = 100\n",
    "meilleurs_scores = np.full((1,max_generations+1), np.NaN) #+1 case pour la génération 0\n",
    "scores_moyens = np.full((1,max_generations+1), np.NaN)\n",
    "population = np.array([[1,1,0,1,0,0,0,1],\n",
    "                       [1,0,0,0,1,1,1,1],\n",
    "                       [0,1,1,1,1,0,0,0],\n",
    "                       [1,1,1,1,1,1,1,1],\n",
    "                       [1,1,0,1,1,0,1,0],\n",
    "                       [0,1,0,1,0,1,1,0],\n",
    "                       [0,1,0,1,1,0,0,0],\n",
    "                       [1,0,1,0,1,1,0,0],\n",
    "                       [1,1,1,0,0,1,0,0],\n",
    "                       [1,0,1,0,1,1,1,0],\n",
    "                       [0,1,0,1,0,0,0,0],\n",
    "                       [1,0,1,0,0,0,1,0],\n",
    "                       [1,0,1,1,1,0,0,1],\n",
    "                       [0,0,0,0,1,1,0,1],\n",
    "                       [1,0,0,1,1,0,0,0],\n",
    "                       [0,1,0,0,0,1,0,0],\n",
    "                       [0,1,1,0,1,1,1,0],\n",
    "                       [1,0,0,0,0,1,1,1],\n",
    "                       [1,1,1,1,0,0,1,0],\n",
    "                       [1,0,0,0,0,0,0,0]], dtype=int)"
   ]
  },
  {
   "cell_type": "markdown",
   "metadata": {},
   "source": [
    "https://www.geeksforgeeks.org/decimal-equivalent-gray-code-inverse/"
   ]
  },
  {
   "cell_type": "code",
   "execution_count": null,
   "metadata": {},
   "outputs": [],
   "source": [
    "# def dec2gc(dec,N):\n",
    "#     dec ^= (dec >> 1)\n",
    "#     return '{:0>{width}}'.format(bin(dec)[2:], 'b', width=N)\n",
    "# def gc2dec(gc):\n",
    "#     gc = int(gc,base=2)\n",
    "#     inv = 0\n",
    "#     while(gc):\n",
    "#         inv = inv ^ gc\n",
    "#         gc = gc >> 1\n",
    "#     return inv\n",
    "\n",
    "chromosome = dec2gc(247,16)\n",
    "print(chromosome)\n",
    "print(gc2dec(chromosome))\n"
   ]
  },
  {
   "cell_type": "code",
   "execution_count": null,
   "metadata": {},
   "outputs": [],
   "source": [
    "fn_y = lambda x: np.sin(2*np.pi*0.01*x)*(-x)*0.02 - 4\n",
    "x=np.arange(0,2**8)\n",
    "fig = px.line(x=x,y=fn_y(x))\n",
    "fig.show()"
   ]
  },
  {
   "cell_type": "code",
   "execution_count": null,
   "metadata": {},
   "outputs": [],
   "source": [
    "tracer_population(population,\"Population initiale\")"
   ]
  },
  {
   "cell_type": "code",
   "execution_count": null,
   "metadata": {},
   "outputs": [],
   "source": [
    "scores = calcul_scores_population(population)\n",
    "afficher_population_et_scores(population,scores)\n",
    "afficher_stats_scores(scores,0)"
   ]
  },
  {
   "cell_type": "code",
   "execution_count": null,
   "metadata": {},
   "outputs": [],
   "source": []
  }
 ],
 "metadata": {
  "interpreter": {
   "hash": "d0d192e5f9f8babaf8eeb23985231c86a4cb6cfd9456ebb433e81bf8d2fafc88"
  },
  "kernelspec": {
   "display_name": "Python 3.9.7 ('fidle')",
   "language": "python",
   "name": "python3"
  },
  "language_info": {
   "codemirror_mode": {
    "name": "ipython",
    "version": 3
   },
   "file_extension": ".py",
   "mimetype": "text/x-python",
   "name": "python",
   "nbconvert_exporter": "python",
   "pygments_lexer": "ipython3",
   "version": "3.9.7"
  },
  "orig_nbformat": 4
 },
 "nbformat": 4,
 "nbformat_minor": 2
}
